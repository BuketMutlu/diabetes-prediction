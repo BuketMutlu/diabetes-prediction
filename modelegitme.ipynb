{
 "cells": [
  {
   "cell_type": "code",
   "execution_count": 39,
   "id": "49ebc47a-34ee-4317-a201-e58705d14dfb",
   "metadata": {},
   "outputs": [
    {
     "name": "stdout",
     "output_type": "stream",
     "text": [
      "Doğruluk Skoru: 0.915\n",
      "Model ve scaler başarıyla kaydedildi.\n",
      "Doğruluk Skoru: 0.915\n",
      "Kesinlik (Precision): 0.8952380952380953\n",
      "Duyarlılık (Recall): 0.94\n",
      "F1 Skoru: 0.9170731707317075\n",
      "\n",
      "Classification Report:\n",
      "               precision    recall  f1-score   support\n",
      "\n",
      "           0       0.94      0.89      0.91       100\n",
      "           1       0.90      0.94      0.92       100\n",
      "\n",
      "    accuracy                           0.92       200\n",
      "   macro avg       0.92      0.92      0.91       200\n",
      "weighted avg       0.92      0.92      0.91       200\n",
      "\n"
     ]
    }
   ],
   "source": [
    "import pandas as pd\n",
    "from sklearn.model_selection import train_test_split, GridSearchCV\n",
    "from sklearn.preprocessing import StandardScaler\n",
    "from sklearn.metrics import accuracy_score, precision_score, recall_score, f1_score, classification_report\n",
    "from xgboost import XGBClassifier\n",
    "from imblearn.over_sampling import SMOTE\n",
    "import warnings\n",
    "import pickle\n",
    "import numpy as np\n",
    "import matplotlib.pyplot as plt\n",
    "%matplotlib inline \n",
    "warnings.filterwarnings(\"ignore\")\n",
    "\n",
    "# Veriyi yükleme\n",
    "data = pd.read_csv('diabetes.csv', encoding='utf-8')\n",
    "\n",
    "# Eksik değerlerin işlenmesi\n",
    "columns_with_zeros = ['Glucose', 'BloodPressure', 'SkinThickness', 'Insulin', 'BMI']\n",
    "data[columns_with_zeros] = data[columns_with_zeros].replace(0, pd.NA)\n",
    "\n",
    "for col in columns_with_zeros:\n",
    "    data.loc[data['Outcome'] == 0, col] = data.loc[data['Outcome'] == 0, col].fillna(data.loc[data['Outcome'] == 0, col].mean())\n",
    "    data.loc[data['Outcome'] == 1, col] = data.loc[data['Outcome'] == 1, col].fillna(data.loc[data['Outcome'] == 1, col].mean())\n",
    "\n",
    "# Özellik ve etiketleri ayırma\n",
    "X = data.drop('Outcome', axis=1)\n",
    "y = data['Outcome']\n",
    "\n",
    "# Veri dengesizliğini giderme\n",
    "smote = SMOTE(random_state=42)\n",
    "X_resampled, y_resampled = smote.fit_resample(X, y)\n",
    "\n",
    "# Özellikleri standartlaştırma\n",
    "scaler = StandardScaler()\n",
    "X_scaled = scaler.fit_transform(X_resampled)\n",
    "\n",
    "# Eğitim ve test verilerine ayırma\n",
    "X_train, X_test, y_train, y_test = train_test_split(X_scaled, y_resampled, test_size=0.2, random_state=42, stratify=y_resampled)\n",
    "\n",
    "xgb_model = XGBClassifier(\n",
    "    random_state=42, \n",
    "    use_label_encoder=False, \n",
    "    eval_metric='logloss'\n",
    ")\n",
    "xgb_model.fit(X_train, y_train)\n",
    "\n",
    "y_pred = xgb_model.predict(X_test)\n",
    "print(\"Doğruluk Skoru:\", accuracy_score(y_test, y_pred))\n",
    "\n",
    "\n",
    "# Modeli ve scaler'ı pickle ile kaydet\n",
    "with open('xgb_model97.pkl', 'wb') as model_file:\n",
    "    pickle.dump(xgb_model, model_file)\n",
    "\n",
    "with open('scaler97.pkl', 'wb') as scaler_file:\n",
    "    pickle.dump(scaler, scaler_file)\n",
    "\n",
    "print(\"Model ve scaler başarıyla kaydedildi.\")\n",
    "\n",
    "# Doğruluk, kesinlik, duyarlılık ve F1 skoru\n",
    "accuracy = accuracy_score(y_test, y_pred)\n",
    "precision = precision_score(y_test, y_pred)\n",
    "recall = recall_score(y_test, y_pred)\n",
    "f1 = f1_score(y_test, y_pred)\n",
    "classification_rep = classification_report(y_test, y_pred)\n",
    "\n",
    "print(\"Doğruluk Skoru:\", accuracy)\n",
    "print(\"Kesinlik (Precision):\", precision)\n",
    "print(\"Duyarlılık (Recall):\", recall)\n",
    "print(\"F1 Skoru:\", f1)\n",
    "print(\"\\nClassification Report:\\n\", classification_rep)\n",
    "\n"
   ]
  },
  {
   "cell_type": "code",
   "execution_count": 2,
   "id": "ef6c2075-935a-4fce-8675-6ee81b6bf2be",
   "metadata": {},
   "outputs": [
    {
     "name": "stdout",
     "output_type": "stream",
     "text": [
      "   Pregnancies  Glucose  BloodPressure  SkinThickness     Insulin   BMI  \\\n",
      "0            6    148.0           72.0           35.0  206.846154  33.6   \n",
      "1            1     85.0           66.0           29.0  130.287879  26.6   \n",
      "2            8    183.0           64.0           33.0  206.846154  23.3   \n",
      "3            1     89.0           66.0           23.0   94.000000  28.1   \n",
      "4            0    137.0           40.0           35.0  168.000000  43.1   \n",
      "\n",
      "   DiabetesPedigreeFunction  Age  Outcome  \n",
      "0                     0.627   50        1  \n",
      "1                     0.351   31        0  \n",
      "2                     0.672   32        1  \n",
      "3                     0.167   21        0  \n",
      "4                     2.288   33        1  \n"
     ]
    }
   ],
   "source": [
    "print(data.head())"
   ]
  },
  {
   "cell_type": "code",
   "execution_count": 42,
   "id": "3ab42353-36e0-46b7-8970-222b35fc6d7e",
   "metadata": {},
   "outputs": [
    {
     "name": "stdout",
     "output_type": "stream",
     "text": [
      "Epoch 1/10\n",
      "24/24 [==============================] - 3s 10ms/step - loss: 1.6357 - accuracy: 0.6576\n",
      "Epoch 2/10\n",
      "24/24 [==============================] - 0s 8ms/step - loss: 0.5492 - accuracy: 0.7604\n",
      "Epoch 3/10\n",
      "24/24 [==============================] - 0s 9ms/step - loss: 0.5503 - accuracy: 0.7474\n",
      "Epoch 4/10\n",
      "24/24 [==============================] - 0s 8ms/step - loss: 0.5345 - accuracy: 0.7682\n",
      "Epoch 5/10\n",
      "24/24 [==============================] - 0s 8ms/step - loss: 0.5525 - accuracy: 0.7786: 0s - loss: 0.6152 - accuracy: \n",
      "Epoch 6/10\n",
      "24/24 [==============================] - 0s 8ms/step - loss: 0.5243 - accuracy: 0.7734\n",
      "Epoch 7/10\n",
      "24/24 [==============================] - 0s 8ms/step - loss: 0.5349 - accuracy: 0.7734\n",
      "Epoch 8/10\n",
      "24/24 [==============================] - 0s 10ms/step - loss: 0.4987 - accuracy: 0.7852\n",
      "Epoch 9/10\n",
      "24/24 [==============================] - 0s 10ms/step - loss: 0.5296 - accuracy: 0.7708\n",
      "Epoch 10/10\n",
      "24/24 [==============================] - 0s 8ms/step - loss: 0.5066 - accuracy: 0.7930\n"
     ]
    }
   ],
   "source": [
    "# Keras modelini oluşturuyoruz, 8 özellik ile\n",
    "keras_model = tf.keras.Sequential([\n",
    "    tf.keras.layers.Dense(128, activation='relu', input_shape=(X.shape[1],)),  # 8 özellik\n",
    "    tf.keras.layers.Dense(64, activation='relu'),\n",
    "    tf.keras.layers.Dense(1, activation='sigmoid')\n",
    "])\n",
    "\n",
    "# Keras modelini derleyin\n",
    "keras_model.compile(optimizer='adam', loss='binary_crossentropy', metrics=['accuracy'])\n",
    "\n",
    "# Keras modelini eğitme\n",
    "keras_model.fit(X, y, epochs=10, batch_size=32)\n",
    "\n",
    "# Keras modelini kaydedin\n",
    "keras_model.save('kerass_model.h5')\n"
   ]
  },
  {
   "cell_type": "code",
   "execution_count": 43,
   "id": "292c60e5-d018-46d0-8b4d-c45fa8df070b",
   "metadata": {},
   "outputs": [
    {
     "name": "stdout",
     "output_type": "stream",
     "text": [
      "INFO:tensorflow:Assets written to: C:\\Users\\Asus\\AppData\\Local\\Temp\\tmpito5d69t\\assets\n"
     ]
    },
    {
     "name": "stderr",
     "output_type": "stream",
     "text": [
      "INFO:tensorflow:Assets written to: C:\\Users\\Asus\\AppData\\Local\\Temp\\tmpito5d69t\\assets\n"
     ]
    },
    {
     "name": "stdout",
     "output_type": "stream",
     "text": [
      "Model başarıyla TFLite formatına dönüştürüldü ve kaydedildi.\n"
     ]
    }
   ],
   "source": [
    "# Keras modelini yükle\n",
    "keras_model = tf.keras.models.load_model('kerass_model.h5')\n",
    "\n",
    "# Modeli TensorFlow Lite formatına dönüştür\n",
    "\n",
    "\n",
    "converter = tf.lite.TFLiteConverter.from_keras_model(keras_model)\n",
    "converter.optimizations = [tf.lite.Optimize.DEFAULT]\n",
    "converter.target_spec.supported_ops = [tf.lite.OpsSet.TFLITE_BUILTINS]\n",
    "tflite_model = converter.convert()\n",
    "\n",
    "# TFLite modelini kaydedin\n",
    "with open('model97.tflite', 'wb') as f:\n",
    "    f.write(tflite_model)\n",
    "\n",
    "print(\"Model başarıyla TFLite formatına dönüştürüldü ve kaydedildi.\")\n"
   ]
  },
  {
   "cell_type": "code",
   "execution_count": 29,
   "id": "fd619649-33d0-407b-b568-8bb95446ab29",
   "metadata": {},
   "outputs": [
    {
     "name": "stdout",
     "output_type": "stream",
     "text": [
      "0    500\n",
      "1    268\n",
      "Name: Outcome, dtype: int64\n"
     ]
    }
   ],
   "source": [
    "# Outcome sütununun dağılımını kontrol et\n",
    "print(data['Outcome'].value_counts())"
   ]
  },
  {
   "cell_type": "code",
   "execution_count": null,
   "id": "9d1ad10c-f083-4eb5-b401-c76836db9944",
   "metadata": {},
   "outputs": [],
   "source": [
    "# Tahmin yapmak için input verisi\n",
    "#input_query = np.array([[0, 120, 75, 28, 110.4, 27.5, 0.500, 35]])\n",
    "#input_query = np.array([[6, 148, 72, 35, 206.84, 33.6, 0.627, 50]])\n",
    "#input_query = np.array([[1, 89, 66, 23, 94, 28.1, 0.167, 21]])\n",
    "#input_query = np.array([[0, 137, 40, 35, 168,43.1, 2.288, 33]])\n",
    "#input_query = np.array([[1, 85, 66, 29, 130.28,26.6, 0.351, 31]])\n",
    "input_query = np.array([[0, 72, 47, 25, 148,30.1, 0.128, 28]])\n",
    "# Input verisini ölçeklendir\n",
    "input_query_scaled = scaler.transform(input_query)\n",
    "# Model ile tahmin yap\n",
    "prediction = xgb_model.predict(input_query_scaled)\n",
    "prediction_proba =xgb_model.predict_proba(input_query_scaled)[:, 1]\n",
    "\n",
    "# Tahmin ve olasılıkları yazdır\n",
    "print(f\"Tahmin Sonucu (0 veya 1): {prediction[0]}\")\n",
    "print(f\"Diyabet olma olasılığı: {prediction_proba[0]:.4f}\")\n"
   ]
  }
 ],
 "metadata": {
  "kernelspec": {
   "display_name": "Python 3",
   "language": "python",
   "name": "python3"
  },
  "language_info": {
   "codemirror_mode": {
    "name": "ipython",
    "version": 3
   },
   "file_extension": ".py",
   "mimetype": "text/x-python",
   "name": "python",
   "nbconvert_exporter": "python",
   "pygments_lexer": "ipython3",
   "version": "3.6.13"
  }
 },
 "nbformat": 4,
 "nbformat_minor": 5
}
